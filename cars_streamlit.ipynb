{
 "cells": [
  {
   "cell_type": "code",
   "execution_count": 10,
   "metadata": {},
   "outputs": [
    {
     "name": "stdout",
     "output_type": "stream",
     "text": [
      "ไฟล์พบที่: C:\\65024311\\cars_streamlit.ipynb\n"
     ]
    }
   ],
   "source": [
    "import os\n",
    "\n",
    "def find_file(filename, search_path):\n",
    "    for root, dirs, files in os.walk(search_path):\n",
    "        if filename in files:\n",
    "            return os.path.join(root, filename)\n",
    "    return None\n",
    "\n",
    "# กำหนดชื่อไฟล์ที่ต้องการค้นหา\n",
    "file_to_find = 'cars_streamlit.ipynb'\n",
    "\n",
    "# กำหนดพาธเริ่มต้นในการค้นหา (ปรับให้เหมาะสมกับที่อยู่ของคุณ)\n",
    "search_directory = r'C:\\65024311'\n",
    "\n",
    "# ค้นหาไฟล์\n",
    "file_path = find_file(file_to_find, search_directory)\n",
    "\n",
    "if file_path:\n",
    "    print(f\"ไฟล์พบที่: {file_path}\")\n",
    "else:\n",
    "    print(f\"ไม่พบไฟล์ {file_to_find} ใน {search_directory}\")\n"
   ]
  },
  {
   "cell_type": "code",
   "execution_count": 12,
   "metadata": {},
   "outputs": [
    {
     "name": "stdout",
     "output_type": "stream",
     "text": [
      "ไฟล์ไม่พบที่: D:\\65024311\\cars_streamlit.pkl\n"
     ]
    }
   ],
   "source": [
    "import pickle\n",
    "\n",
    "model_path = r'D:\\65024311\\cars_streamlit.pkl'\n",
    "try:\n",
    "    with open(model_path, 'rb') as file:\n",
    "        model = pickle.load(file)\n",
    "except FileNotFoundError:\n",
    "    print(f\"ไฟล์ไม่พบที่: {model_path}\")\n",
    "except pickle.UnpicklingError:\n",
    "    print(f\"ไม่สามารถโหลดไฟล์ pickle ได้: {model_path}\")\n",
    "except Exception as e:\n",
    "    print(f\"เกิดข้อผิดพลาดอื่น: {e}\")"
   ]
  },
  {
   "cell_type": "code",
   "execution_count": 11,
   "metadata": {},
   "outputs": [
    {
     "ename": "UnpicklingError",
     "evalue": "invalid load key, '{'.",
     "output_type": "error",
     "traceback": [
      "\u001b[1;31m---------------------------------------------------------------------------\u001b[0m",
      "\u001b[1;31mUnpicklingError\u001b[0m                           Traceback (most recent call last)",
      "Cell \u001b[1;32mIn[11], line 6\u001b[0m\n\u001b[0;32m      4\u001b[0m \u001b[38;5;28;01mtry\u001b[39;00m:\n\u001b[0;32m      5\u001b[0m     \u001b[38;5;28;01mwith\u001b[39;00m \u001b[38;5;28mopen\u001b[39m(model_path, \u001b[38;5;124m'\u001b[39m\u001b[38;5;124mrb\u001b[39m\u001b[38;5;124m'\u001b[39m) \u001b[38;5;28;01mas\u001b[39;00m file:\n\u001b[1;32m----> 6\u001b[0m         model \u001b[38;5;241m=\u001b[39m \u001b[43mpickle\u001b[49m\u001b[38;5;241;43m.\u001b[39;49m\u001b[43mload\u001b[49m\u001b[43m(\u001b[49m\u001b[43mfile\u001b[49m\u001b[43m)\u001b[49m\n\u001b[0;32m      7\u001b[0m \u001b[38;5;28;01mexcept\u001b[39;00m \u001b[38;5;167;01mFileNotFoundError\u001b[39;00m:\n\u001b[0;32m      8\u001b[0m     \u001b[38;5;28mprint\u001b[39m(\u001b[38;5;124mf\u001b[39m\u001b[38;5;124m\"\u001b[39m\u001b[38;5;124mไฟล์ไม่พบที่: \u001b[39m\u001b[38;5;132;01m{\u001b[39;00mmodel_path\u001b[38;5;132;01m}\u001b[39;00m\u001b[38;5;124m\"\u001b[39m)\n",
      "\u001b[1;31mUnpicklingError\u001b[0m: invalid load key, '{'."
     ]
    }
   ],
   "source": [
    "import pickle\n",
    "\n",
    "model_path = r\"C:\\65024311\\cars_streamlit.ipynb\"\n",
    "try:\n",
    "    with open(model_path, 'rb') as file:\n",
    "        model = pickle.load(file)\n",
    "except FileNotFoundError:\n",
    "    print(f\"ไฟล์ไม่พบที่: {model_path}\")"
   ]
  },
  {
   "cell_type": "code",
   "execution_count": 7,
   "metadata": {},
   "outputs": [
    {
     "ename": "FileNotFoundError",
     "evalue": "[Errno 2] No such file or directory: 'C:\\\\65024311\\\\cars_streamlit.pkl'",
     "output_type": "error",
     "traceback": [
      "\u001b[1;31m---------------------------------------------------------------------------\u001b[0m",
      "\u001b[1;31mFileNotFoundError\u001b[0m                         Traceback (most recent call last)",
      "Cell \u001b[1;32mIn[7], line 11\u001b[0m\n\u001b[0;32m      9\u001b[0m \u001b[38;5;66;03m# Load the model\u001b[39;00m\n\u001b[0;32m     10\u001b[0m model_path \u001b[38;5;241m=\u001b[39m \u001b[38;5;124mr\u001b[39m\u001b[38;5;124m\"\u001b[39m\u001b[38;5;124mC:\u001b[39m\u001b[38;5;124m\\\u001b[39m\u001b[38;5;124m65024311\u001b[39m\u001b[38;5;124m\\\u001b[39m\u001b[38;5;124mcars_streamlit.pkl\u001b[39m\u001b[38;5;124m\"\u001b[39m\n\u001b[1;32m---> 11\u001b[0m \u001b[38;5;28;01mwith\u001b[39;00m \u001b[38;5;28;43mopen\u001b[39;49m\u001b[43m(\u001b[49m\u001b[43mmodel_path\u001b[49m\u001b[43m,\u001b[49m\u001b[43m \u001b[49m\u001b[38;5;124;43m'\u001b[39;49m\u001b[38;5;124;43mrb\u001b[39;49m\u001b[38;5;124;43m'\u001b[39;49m\u001b[43m)\u001b[49m \u001b[38;5;28;01mas\u001b[39;00m file:\n\u001b[0;32m     12\u001b[0m     model \u001b[38;5;241m=\u001b[39m pickle\u001b[38;5;241m.\u001b[39mload(file)\n\u001b[0;32m     14\u001b[0m \u001b[38;5;66;03m# Page configuration\u001b[39;00m\n",
      "File \u001b[1;32mc:\\Users\\ACER\\miniconda3\\Lib\\site-packages\\IPython\\core\\interactiveshell.py:324\u001b[0m, in \u001b[0;36m_modified_open\u001b[1;34m(file, *args, **kwargs)\u001b[0m\n\u001b[0;32m    317\u001b[0m \u001b[38;5;28;01mif\u001b[39;00m file \u001b[38;5;129;01min\u001b[39;00m {\u001b[38;5;241m0\u001b[39m, \u001b[38;5;241m1\u001b[39m, \u001b[38;5;241m2\u001b[39m}:\n\u001b[0;32m    318\u001b[0m     \u001b[38;5;28;01mraise\u001b[39;00m \u001b[38;5;167;01mValueError\u001b[39;00m(\n\u001b[0;32m    319\u001b[0m         \u001b[38;5;124mf\u001b[39m\u001b[38;5;124m\"\u001b[39m\u001b[38;5;124mIPython won\u001b[39m\u001b[38;5;124m'\u001b[39m\u001b[38;5;124mt let you open fd=\u001b[39m\u001b[38;5;132;01m{\u001b[39;00mfile\u001b[38;5;132;01m}\u001b[39;00m\u001b[38;5;124m by default \u001b[39m\u001b[38;5;124m\"\u001b[39m\n\u001b[0;32m    320\u001b[0m         \u001b[38;5;124m\"\u001b[39m\u001b[38;5;124mas it is likely to crash IPython. If you know what you are doing, \u001b[39m\u001b[38;5;124m\"\u001b[39m\n\u001b[0;32m    321\u001b[0m         \u001b[38;5;124m\"\u001b[39m\u001b[38;5;124myou can use builtins\u001b[39m\u001b[38;5;124m'\u001b[39m\u001b[38;5;124m open.\u001b[39m\u001b[38;5;124m\"\u001b[39m\n\u001b[0;32m    322\u001b[0m     )\n\u001b[1;32m--> 324\u001b[0m \u001b[38;5;28;01mreturn\u001b[39;00m \u001b[43mio_open\u001b[49m\u001b[43m(\u001b[49m\u001b[43mfile\u001b[49m\u001b[43m,\u001b[49m\u001b[43m \u001b[49m\u001b[38;5;241;43m*\u001b[39;49m\u001b[43margs\u001b[49m\u001b[43m,\u001b[49m\u001b[43m \u001b[49m\u001b[38;5;241;43m*\u001b[39;49m\u001b[38;5;241;43m*\u001b[39;49m\u001b[43mkwargs\u001b[49m\u001b[43m)\u001b[49m\n",
      "\u001b[1;31mFileNotFoundError\u001b[0m: [Errno 2] No such file or directory: 'C:\\\\65024311\\\\cars_streamlit.pkl'"
     ]
    }
   ],
   "source": [
    "import joblib\n",
    "import streamlit as st\n",
    "import pickle\n",
    "import pandas as pd\n",
    "import numpy as np\n",
    "import matplotlib.pyplot as plt\n",
    "import seaborn as sns\n",
    "\n",
    "# Load the model\n",
    "model_path = r\"C:\\65024311\\cars_streamlit.pkl\"\n",
    "with open(model_path, 'rb') as file:\n",
    "    model = pickle.load(file)\n",
    "\n",
    "# Page configuration\n",
    "st.set_page_config(\n",
    "    page_title=\"Car Price Prediction App\",\n",
    "    page_icon=\":car:\",\n",
    "    layout=\"wide\"\n",
    ")\n",
    "\n",
    "# Header\n",
    "st.title(\"Car Price Prediction\")\n",
    "st.write(\"Predict the price of a used car based on various features.\")\n",
    "\n",
    "# Sidebar\n",
    "st.sidebar.header(\"User Input\")\n",
    "st.sidebar.text(\"Adjust the settings below to predict the price of the car.\")\n",
    "\n",
    "# Input Controls in Sidebar (replace these with real car-related features)\n",
    "make = st.sidebar.selectbox(\"Make\", ['Toyota', 'Honda', 'Ford', 'BMW', 'Mercedes'])\n",
    "year = st.sidebar.slider(\"Year\", min_value=1990, max_value=2023, value=2015)\n",
    "mileage = st.sidebar.slider(\"Mileage (in km)\", min_value=0, max_value=300000, value=50000)\n",
    "\n",
    "# Creating a DataFrame for the input features\n",
    "input_data = pd.DataFrame({\n",
    "    'Make': [make],\n",
    "    'Year': [year],\n",
    "    'Mileage': [mileage],\n",
    "})\n",
    "\n",
    "# Prediction\n",
    "if st.sidebar.button('Predict'):\n",
    "    prediction = model.predict(input_data)\n",
    "    st.subheader(\"Prediction Result\")\n",
    "    st.write(f\"The predicted price of the car is: ${prediction[0]:,.2f}\")\n",
    "\n",
    "# Display a plot for better visualization\n",
    "st.subheader(\"Feature Distribution\")\n",
    "\n",
    "# Generating sample data for plotting (replace with your actual data if available)\n",
    "data = {\n",
    "    'Year': np.random.randint(1990, 2023, 100),\n",
    "    'Mileage': np.random.randint(0, 300000, 100)\n",
    "}\n",
    "df = pd.DataFrame(data)\n",
    "\n",
    "fig, ax = plt.subplots()\n",
    "sns.histplot(df['Year'], bins=20, kde=True, ax=ax, color='lightblue', alpha=0.7)\n",
    "ax.set_title('Distribution of Car Year')\n",
    "ax.set_xlabel('Year')\n",
    "ax.set_ylabel('Frequency')\n",
    "st.pyplot(fig)\n",
    "\n",
    "# Additional Information\n",
    "st.markdown(\"This application predicts the price of a used car based on its make, year, and mileage.\")\n"
   ]
  }
 ],
 "metadata": {
  "kernelspec": {
   "display_name": "Python 3",
   "language": "python",
   "name": "python3"
  },
  "language_info": {
   "codemirror_mode": {
    "name": "ipython",
    "version": 3
   },
   "file_extension": ".py",
   "mimetype": "text/x-python",
   "name": "python",
   "nbconvert_exporter": "python",
   "pygments_lexer": "ipython3",
   "version": "3.12.4"
  }
 },
 "nbformat": 4,
 "nbformat_minor": 2
}
